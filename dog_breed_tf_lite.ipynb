{
 "cells": [
  {
   "cell_type": "code",
   "execution_count": 18,
   "metadata": {
    "executionInfo": {
     "elapsed": 635,
     "status": "ok",
     "timestamp": 1607980917799,
     "user": {
      "displayName": "Mahmut Can Kurt",
      "photoUrl": "https://lh3.googleusercontent.com/a-/AOh14GiR0Vz-Xi8c64gs5AldT12G3fhmeowAL59isdw9=s64",
      "userId": "17273613824855319138"
     },
     "user_tz": -180
    },
    "id": "EvQeZEtxbhfC"
   },
   "outputs": [],
   "source": [
    "import tensorflow as tf\n",
    "assert tf.__version__.startswith('2')\n",
    "\n",
    "import os\n",
    "import numpy as np\n",
    "import matplotlib.pyplot as plt"
   ]
  },
  {
   "cell_type": "code",
   "execution_count": 19,
   "metadata": {
    "colab": {
     "base_uri": "https://localhost:8080/",
     "height": 35
    },
    "executionInfo": {
     "elapsed": 930,
     "status": "ok",
     "timestamp": 1607980918100,
     "user": {
      "displayName": "Mahmut Can Kurt",
      "photoUrl": "https://lh3.googleusercontent.com/a-/AOh14GiR0Vz-Xi8c64gs5AldT12G3fhmeowAL59isdw9=s64",
      "userId": "17273613824855319138"
     },
     "user_tz": -180
    },
    "id": "bbrALc_ybnCH",
    "outputId": "4919f31e-270a-4cdd-a195-b08a182222c5"
   },
   "outputs": [
    {
     "data": {
      "application/vnd.google.colaboratory.intrinsic+json": {
       "type": "string"
      },
      "text/plain": [
       "'2.3.0'"
      ]
     },
     "execution_count": 19,
     "metadata": {
      "tags": []
     },
     "output_type": "execute_result"
    }
   ],
   "source": [
    "tf.__version__"
   ]
  },
  {
   "cell_type": "code",
   "execution_count": 20,
   "metadata": {
    "colab": {
     "base_uri": "https://localhost:8080/"
    },
    "executionInfo": {
     "elapsed": 925,
     "status": "ok",
     "timestamp": 1607980918100,
     "user": {
      "displayName": "Mahmut Can Kurt",
      "photoUrl": "https://lh3.googleusercontent.com/a-/AOh14GiR0Vz-Xi8c64gs5AldT12G3fhmeowAL59isdw9=s64",
      "userId": "17273613824855319138"
     },
     "user_tz": -180
    },
    "id": "xX_cHGsgbovo",
    "outputId": "2e49528c-cc07-4139-aac6-f65746918a99"
   },
   "outputs": [
    {
     "name": "stdout",
     "output_type": "stream",
     "text": [
      "Drive already mounted at /content/gdrive; to attempt to forcibly remount, call drive.mount(\"/content/gdrive\", force_remount=True).\n"
     ]
    }
   ],
   "source": [
    "from google.colab import drive\n",
    "drive.mount('/content/gdrive')"
   ]
  },
  {
   "cell_type": "code",
   "execution_count": 21,
   "metadata": {
    "executionInfo": {
     "elapsed": 918,
     "status": "ok",
     "timestamp": 1607980918101,
     "user": {
      "displayName": "Mahmut Can Kurt",
      "photoUrl": "https://lh3.googleusercontent.com/a-/AOh14GiR0Vz-Xi8c64gs5AldT12G3fhmeowAL59isdw9=s64",
      "userId": "17273613824855319138"
     },
     "user_tz": -180
    },
    "id": "VgGBgLtlbrk5"
   },
   "outputs": [],
   "source": [
    "image_dir = '/content/gdrive/My Drive/dataset/Images'"
   ]
  },
  {
   "cell_type": "code",
   "execution_count": 22,
   "metadata": {
    "colab": {
     "base_uri": "https://localhost:8080/"
    },
    "executionInfo": {
     "elapsed": 1949,
     "status": "ok",
     "timestamp": 1607980919137,
     "user": {
      "displayName": "Mahmut Can Kurt",
      "photoUrl": "https://lh3.googleusercontent.com/a-/AOh14GiR0Vz-Xi8c64gs5AldT12G3fhmeowAL59isdw9=s64",
      "userId": "17273613824855319138"
     },
     "user_tz": -180
    },
    "id": "mL-_qA6VbyAk",
    "outputId": "da5b514b-17c4-4afa-e122-1266d93c96ff"
   },
   "outputs": [
    {
     "name": "stdout",
     "output_type": "stream",
     "text": [
      "Found 16516 images belonging to 120 classes.\n",
      "Found 4074 images belonging to 120 classes.\n"
     ]
    }
   ],
   "source": [
    "IMAGE_SIZE = 224\n",
    "BATCH_SIZE = 64\n",
    "\n",
    "datagen = tf.keras.preprocessing.image.ImageDataGenerator(\n",
    "    rescale=1./255, \n",
    "    validation_split=0.2)\n",
    "\n",
    "train_generator = datagen.flow_from_directory(\n",
    "    image_dir,\n",
    "    target_size=(IMAGE_SIZE, IMAGE_SIZE),\n",
    "    batch_size=BATCH_SIZE, \n",
    "    subset='training')\n",
    "\n",
    "val_generator = datagen.flow_from_directory(\n",
    "    image_dir,\n",
    "    target_size=(IMAGE_SIZE, IMAGE_SIZE),\n",
    "    batch_size=BATCH_SIZE, \n",
    "    subset='validation')"
   ]
  },
  {
   "cell_type": "code",
   "execution_count": 23,
   "metadata": {
    "colab": {
     "base_uri": "https://localhost:8080/"
    },
    "executionInfo": {
     "elapsed": 28240,
     "status": "ok",
     "timestamp": 1607980945433,
     "user": {
      "displayName": "Mahmut Can Kurt",
      "photoUrl": "https://lh3.googleusercontent.com/a-/AOh14GiR0Vz-Xi8c64gs5AldT12G3fhmeowAL59isdw9=s64",
      "userId": "17273613824855319138"
     },
     "user_tz": -180
    },
    "id": "4FFaOwvsdNUV",
    "outputId": "7175ef1b-c6a3-4854-f7bc-ccb8d5723b67"
   },
   "outputs": [
    {
     "data": {
      "text/plain": [
       "((64, 224, 224, 3), (64, 120))"
      ]
     },
     "execution_count": 23,
     "metadata": {
      "tags": []
     },
     "output_type": "execute_result"
    }
   ],
   "source": [
    "for image_batch, label_batch in train_generator:\n",
    "  break\n",
    "image_batch.shape, label_batch.shape"
   ]
  },
  {
   "cell_type": "code",
   "execution_count": 24,
   "metadata": {
    "colab": {
     "base_uri": "https://localhost:8080/"
    },
    "executionInfo": {
     "elapsed": 28237,
     "status": "ok",
     "timestamp": 1607980945437,
     "user": {
      "displayName": "Mahmut Can Kurt",
      "photoUrl": "https://lh3.googleusercontent.com/a-/AOh14GiR0Vz-Xi8c64gs5AldT12G3fhmeowAL59isdw9=s64",
      "userId": "17273613824855319138"
     },
     "user_tz": -180
    },
    "id": "mzYrNpCUFmUs",
    "outputId": "29ff5526-1cfa-4e88-c112-e37166ed8045"
   },
   "outputs": [
    {
     "name": "stdout",
     "output_type": "stream",
     "text": [
      "{'n02085620-Chihuahua': 0, 'n02085782-Japanese_spaniel': 1, 'n02085936-Maltese_dog': 2, 'n02086079-Pekinese': 3, 'n02086240-Shih-Tzu': 4, 'n02086646-Blenheim_spaniel': 5, 'n02086910-papillon': 6, 'n02087046-toy_terrier': 7, 'n02087394-Rhodesian_ridgeback': 8, 'n02088094-Afghan_hound': 9, 'n02088238-basset': 10, 'n02088364-beagle': 11, 'n02088466-bloodhound': 12, 'n02088632-bluetick': 13, 'n02089078-black-and-tan_coonhound': 14, 'n02089867-Walker_hound': 15, 'n02089973-English_foxhound': 16, 'n02090379-redbone': 17, 'n02090622-borzoi': 18, 'n02090721-Irish_wolfhound': 19, 'n02091032-Italian_greyhound': 20, 'n02091134-whippet': 21, 'n02091244-Ibizan_hound': 22, 'n02091467-Norwegian_elkhound': 23, 'n02091635-otterhound': 24, 'n02091831-Saluki': 25, 'n02092002-Scottish_deerhound': 26, 'n02092339-Weimaraner': 27, 'n02093256-Staffordshire_bullterrier': 28, 'n02093428-American_Staffordshire_terrier': 29, 'n02093647-Bedlington_terrier': 30, 'n02093754-Border_terrier': 31, 'n02093859-Kerry_blue_terrier': 32, 'n02093991-Irish_terrier': 33, 'n02094114-Norfolk_terrier': 34, 'n02094258-Norwich_terrier': 35, 'n02094433-Yorkshire_terrier': 36, 'n02095314-wire-haired_fox_terrier': 37, 'n02095570-Lakeland_terrier': 38, 'n02095889-Sealyham_terrier': 39, 'n02096051-Airedale': 40, 'n02096177-cairn': 41, 'n02096294-Australian_terrier': 42, 'n02096437-Dandie_Dinmont': 43, 'n02096585-Boston_bull': 44, 'n02097047-miniature_schnauzer': 45, 'n02097130-giant_schnauzer': 46, 'n02097209-standard_schnauzer': 47, 'n02097298-Scotch_terrier': 48, 'n02097474-Tibetan_terrier': 49, 'n02097658-silky_terrier': 50, 'n02098105-soft-coated_wheaten_terrier': 51, 'n02098286-West_Highland_white_terrier': 52, 'n02098413-Lhasa': 53, 'n02099267-flat-coated_retriever': 54, 'n02099429-curly-coated_retriever': 55, 'n02099601-golden_retriever': 56, 'n02099712-Labrador_retriever': 57, 'n02099849-Chesapeake_Bay_retriever': 58, 'n02100236-German_short-haired_pointer': 59, 'n02100583-vizsla': 60, 'n02100735-English_setter': 61, 'n02100877-Irish_setter': 62, 'n02101006-Gordon_setter': 63, 'n02101388-Brittany_spaniel': 64, 'n02101556-clumber': 65, 'n02102040-English_springer': 66, 'n02102177-Welsh_springer_spaniel': 67, 'n02102318-cocker_spaniel': 68, 'n02102480-Sussex_spaniel': 69, 'n02102973-Irish_water_spaniel': 70, 'n02104029-kuvasz': 71, 'n02104365-schipperke': 72, 'n02105056-groenendael': 73, 'n02105162-malinois': 74, 'n02105251-briard': 75, 'n02105412-kelpie': 76, 'n02105505-komondor': 77, 'n02105641-Old_English_sheepdog': 78, 'n02105855-Shetland_sheepdog': 79, 'n02106030-collie': 80, 'n02106166-Border_collie': 81, 'n02106382-Bouvier_des_Flandres': 82, 'n02106550-Rottweiler': 83, 'n02106662-German_shepherd': 84, 'n02107142-Doberman': 85, 'n02107312-miniature_pinscher': 86, 'n02107574-Greater_Swiss_Mountain_dog': 87, 'n02107683-Bernese_mountain_dog': 88, 'n02107908-Appenzeller': 89, 'n02108000-EntleBucher': 90, 'n02108089-boxer': 91, 'n02108422-bull_mastiff': 92, 'n02108551-Tibetan_mastiff': 93, 'n02108915-French_bulldog': 94, 'n02109047-Great_Dane': 95, 'n02109525-Saint_Bernard': 96, 'n02109961-Eskimo_dog': 97, 'n02110063-malamute': 98, 'n02110185-Siberian_husky': 99, 'n02110627-affenpinscher': 100, 'n02110806-basenji': 101, 'n02110958-pug': 102, 'n02111129-Leonberg': 103, 'n02111277-Newfoundland': 104, 'n02111500-Great_Pyrenees': 105, 'n02111889-Samoyed': 106, 'n02112018-Pomeranian': 107, 'n02112137-chow': 108, 'n02112350-keeshond': 109, 'n02112706-Brabancon_griffon': 110, 'n02113023-Pembroke': 111, 'n02113186-Cardigan': 112, 'n02113624-toy_poodle': 113, 'n02113712-miniature_poodle': 114, 'n02113799-standard_poodle': 115, 'n02113978-Mexican_hairless': 116, 'n02115641-dingo': 117, 'n02115913-dhole': 118, 'n02116738-African_hunting_dog': 119}\n"
     ]
    }
   ],
   "source": [
    "print (train_generator.class_indices)\n",
    "\n",
    "labels = '\\n'.join(sorted(train_generator.class_indices.keys()))\n",
    "\n",
    "with open('labels.txt', 'w') as f:\n",
    "  f.write(labels)"
   ]
  },
  {
   "cell_type": "code",
   "execution_count": 25,
   "metadata": {
    "colab": {
     "base_uri": "https://localhost:8080/"
    },
    "executionInfo": {
     "elapsed": 28233,
     "status": "ok",
     "timestamp": 1607980945438,
     "user": {
      "displayName": "Mahmut Can Kurt",
      "photoUrl": "https://lh3.googleusercontent.com/a-/AOh14GiR0Vz-Xi8c64gs5AldT12G3fhmeowAL59isdw9=s64",
      "userId": "17273613824855319138"
     },
     "user_tz": -180
    },
    "id": "OYPcBr5_Fvw9",
    "outputId": "01aa3449-d01b-4115-bd57-379e936f03ef"
   },
   "outputs": [
    {
     "name": "stdout",
     "output_type": "stream",
     "text": [
      "n02085620-Chihuahua\n",
      "n02085782-Japanese_spaniel\n",
      "n02085936-Maltese_dog\n",
      "n02086079-Pekinese\n",
      "n02086240-Shih-Tzu\n",
      "n02086646-Blenheim_spaniel\n",
      "n02086910-papillon\n",
      "n02087046-toy_terrier\n",
      "n02087394-Rhodesian_ridgeback\n",
      "n02088094-Afghan_hound\n",
      "n02088238-basset\n",
      "n02088364-beagle\n",
      "n02088466-bloodhound\n",
      "n02088632-bluetick\n",
      "n02089078-black-and-tan_coonhound\n",
      "n02089867-Walker_hound\n",
      "n02089973-English_foxhound\n",
      "n02090379-redbone\n",
      "n02090622-borzoi\n",
      "n02090721-Irish_wolfhound\n",
      "n02091032-Italian_greyhound\n",
      "n02091134-whippet\n",
      "n02091244-Ibizan_hound\n",
      "n02091467-Norwegian_elkhound\n",
      "n02091635-otterhound\n",
      "n02091831-Saluki\n",
      "n02092002-Scottish_deerhound\n",
      "n02092339-Weimaraner\n",
      "n02093256-Staffordshire_bullterrier\n",
      "n02093428-American_Staffordshire_terrier\n",
      "n02093647-Bedlington_terrier\n",
      "n02093754-Border_terrier\n",
      "n02093859-Kerry_blue_terrier\n",
      "n02093991-Irish_terrier\n",
      "n02094114-Norfolk_terrier\n",
      "n02094258-Norwich_terrier\n",
      "n02094433-Yorkshire_terrier\n",
      "n02095314-wire-haired_fox_terrier\n",
      "n02095570-Lakeland_terrier\n",
      "n02095889-Sealyham_terrier\n",
      "n02096051-Airedale\n",
      "n02096177-cairn\n",
      "n02096294-Australian_terrier\n",
      "n02096437-Dandie_Dinmont\n",
      "n02096585-Boston_bull\n",
      "n02097047-miniature_schnauzer\n",
      "n02097130-giant_schnauzer\n",
      "n02097209-standard_schnauzer\n",
      "n02097298-Scotch_terrier\n",
      "n02097474-Tibetan_terrier\n",
      "n02097658-silky_terrier\n",
      "n02098105-soft-coated_wheaten_terrier\n",
      "n02098286-West_Highland_white_terrier\n",
      "n02098413-Lhasa\n",
      "n02099267-flat-coated_retriever\n",
      "n02099429-curly-coated_retriever\n",
      "n02099601-golden_retriever\n",
      "n02099712-Labrador_retriever\n",
      "n02099849-Chesapeake_Bay_retriever\n",
      "n02100236-German_short-haired_pointer\n",
      "n02100583-vizsla\n",
      "n02100735-English_setter\n",
      "n02100877-Irish_setter\n",
      "n02101006-Gordon_setter\n",
      "n02101388-Brittany_spaniel\n",
      "n02101556-clumber\n",
      "n02102040-English_springer\n",
      "n02102177-Welsh_springer_spaniel\n",
      "n02102318-cocker_spaniel\n",
      "n02102480-Sussex_spaniel\n",
      "n02102973-Irish_water_spaniel\n",
      "n02104029-kuvasz\n",
      "n02104365-schipperke\n",
      "n02105056-groenendael\n",
      "n02105162-malinois\n",
      "n02105251-briard\n",
      "n02105412-kelpie\n",
      "n02105505-komondor\n",
      "n02105641-Old_English_sheepdog\n",
      "n02105855-Shetland_sheepdog\n",
      "n02106030-collie\n",
      "n02106166-Border_collie\n",
      "n02106382-Bouvier_des_Flandres\n",
      "n02106550-Rottweiler\n",
      "n02106662-German_shepherd\n",
      "n02107142-Doberman\n",
      "n02107312-miniature_pinscher\n",
      "n02107574-Greater_Swiss_Mountain_dog\n",
      "n02107683-Bernese_mountain_dog\n",
      "n02107908-Appenzeller\n",
      "n02108000-EntleBucher\n",
      "n02108089-boxer\n",
      "n02108422-bull_mastiff\n",
      "n02108551-Tibetan_mastiff\n",
      "n02108915-French_bulldog\n",
      "n02109047-Great_Dane\n",
      "n02109525-Saint_Bernard\n",
      "n02109961-Eskimo_dog\n",
      "n02110063-malamute\n",
      "n02110185-Siberian_husky\n",
      "n02110627-affenpinscher\n",
      "n02110806-basenji\n",
      "n02110958-pug\n",
      "n02111129-Leonberg\n",
      "n02111277-Newfoundland\n",
      "n02111500-Great_Pyrenees\n",
      "n02111889-Samoyed\n",
      "n02112018-Pomeranian\n",
      "n02112137-chow\n",
      "n02112350-keeshond\n",
      "n02112706-Brabancon_griffon\n",
      "n02113023-Pembroke\n",
      "n02113186-Cardigan\n",
      "n02113624-toy_poodle\n",
      "n02113712-miniature_poodle\n",
      "n02113799-standard_poodle\n",
      "n02113978-Mexican_hairless\n",
      "n02115641-dingo\n",
      "n02115913-dhole\n",
      "n02116738-African_hunting_dog"
     ]
    }
   ],
   "source": [
    "!cat labels.txt"
   ]
  },
  {
   "cell_type": "code",
   "execution_count": 26,
   "metadata": {
    "executionInfo": {
     "elapsed": 29767,
     "status": "ok",
     "timestamp": 1607980946978,
     "user": {
      "displayName": "Mahmut Can Kurt",
      "photoUrl": "https://lh3.googleusercontent.com/a-/AOh14GiR0Vz-Xi8c64gs5AldT12G3fhmeowAL59isdw9=s64",
      "userId": "17273613824855319138"
     },
     "user_tz": -180
    },
    "id": "BoGHYkdsFvzQ"
   },
   "outputs": [],
   "source": [
    "IMG_SHAPE = (IMAGE_SIZE, IMAGE_SIZE, 3)\n",
    "\n",
    "# Create the base model from the pre-trained model MobileNet V2\n",
    "base_model = tf.keras.applications.MobileNetV2(input_shape=IMG_SHAPE,\n",
    "                                              include_top=False, \n",
    "                                              weights='imagenet')"
   ]
  },
  {
   "cell_type": "code",
   "execution_count": 27,
   "metadata": {
    "executionInfo": {
     "elapsed": 29762,
     "status": "ok",
     "timestamp": 1607980946980,
     "user": {
      "displayName": "Mahmut Can Kurt",
      "photoUrl": "https://lh3.googleusercontent.com/a-/AOh14GiR0Vz-Xi8c64gs5AldT12G3fhmeowAL59isdw9=s64",
      "userId": "17273613824855319138"
     },
     "user_tz": -180
    },
    "id": "fAI65cPwFv1h"
   },
   "outputs": [],
   "source": [
    "base_model.trainable = False"
   ]
  },
  {
   "cell_type": "code",
   "execution_count": 28,
   "metadata": {
    "executionInfo": {
     "elapsed": 30030,
     "status": "ok",
     "timestamp": 1607980947253,
     "user": {
      "displayName": "Mahmut Can Kurt",
      "photoUrl": "https://lh3.googleusercontent.com/a-/AOh14GiR0Vz-Xi8c64gs5AldT12G3fhmeowAL59isdw9=s64",
      "userId": "17273613824855319138"
     },
     "user_tz": -180
    },
    "id": "QGLZMeT5Fv32"
   },
   "outputs": [],
   "source": [
    "model = tf.keras.Sequential([\n",
    "  base_model,\n",
    "  tf.keras.layers.Conv2D(32, 3, activation='relu'),\n",
    "  tf.keras.layers.Dropout(0.2),\n",
    "  tf.keras.layers.GlobalAveragePooling2D(),\n",
    "  tf.keras.layers.Dense(120, activation='softmax')\n",
    "])"
   ]
  },
  {
   "cell_type": "code",
   "execution_count": 29,
   "metadata": {
    "executionInfo": {
     "elapsed": 30024,
     "status": "ok",
     "timestamp": 1607980947254,
     "user": {
      "displayName": "Mahmut Can Kurt",
      "photoUrl": "https://lh3.googleusercontent.com/a-/AOh14GiR0Vz-Xi8c64gs5AldT12G3fhmeowAL59isdw9=s64",
      "userId": "17273613824855319138"
     },
     "user_tz": -180
    },
    "id": "ZRyBUIwtFv6h"
   },
   "outputs": [],
   "source": [
    "model.compile(optimizer=tf.keras.optimizers.Adam(), \n",
    "              loss='categorical_crossentropy', \n",
    "              metrics=['accuracy'])"
   ]
  },
  {
   "cell_type": "code",
   "execution_count": 30,
   "metadata": {
    "colab": {
     "base_uri": "https://localhost:8080/"
    },
    "executionInfo": {
     "elapsed": 30018,
     "status": "ok",
     "timestamp": 1607980947254,
     "user": {
      "displayName": "Mahmut Can Kurt",
      "photoUrl": "https://lh3.googleusercontent.com/a-/AOh14GiR0Vz-Xi8c64gs5AldT12G3fhmeowAL59isdw9=s64",
      "userId": "17273613824855319138"
     },
     "user_tz": -180
    },
    "id": "qQG7ulf_F8q6",
    "outputId": "a8eef9c6-22c0-4ab1-b876-737f83881eef"
   },
   "outputs": [
    {
     "name": "stdout",
     "output_type": "stream",
     "text": [
      "Model: \"sequential_1\"\n",
      "_________________________________________________________________\n",
      "Layer (type)                 Output Shape              Param #   \n",
      "=================================================================\n",
      "mobilenetv2_1.00_224 (Functi (None, 7, 7, 1280)        2257984   \n",
      "_________________________________________________________________\n",
      "conv2d_1 (Conv2D)            (None, 5, 5, 32)          368672    \n",
      "_________________________________________________________________\n",
      "dropout_1 (Dropout)          (None, 5, 5, 32)          0         \n",
      "_________________________________________________________________\n",
      "global_average_pooling2d_1 ( (None, 32)                0         \n",
      "_________________________________________________________________\n",
      "dense_1 (Dense)              (None, 120)               3960      \n",
      "=================================================================\n",
      "Total params: 2,630,616\n",
      "Trainable params: 372,632\n",
      "Non-trainable params: 2,257,984\n",
      "_________________________________________________________________\n"
     ]
    }
   ],
   "source": [
    "model.summary()"
   ]
  },
  {
   "cell_type": "code",
   "execution_count": 31,
   "metadata": {
    "colab": {
     "base_uri": "https://localhost:8080/"
    },
    "executionInfo": {
     "elapsed": 30014,
     "status": "ok",
     "timestamp": 1607980947255,
     "user": {
      "displayName": "Mahmut Can Kurt",
      "photoUrl": "https://lh3.googleusercontent.com/a-/AOh14GiR0Vz-Xi8c64gs5AldT12G3fhmeowAL59isdw9=s64",
      "userId": "17273613824855319138"
     },
     "user_tz": -180
    },
    "id": "4GV8h1M_F-dF",
    "outputId": "c34c0c99-cf6d-4e65-fe30-de016cc24bed"
   },
   "outputs": [
    {
     "name": "stdout",
     "output_type": "stream",
     "text": [
      "Number of trainable variables = 4\n"
     ]
    }
   ],
   "source": [
    "print('Number of trainable variables = {}'.format(len(model.trainable_variables)))"
   ]
  },
  {
   "cell_type": "code",
   "execution_count": 32,
   "metadata": {
    "colab": {
     "base_uri": "https://localhost:8080/"
    },
    "executionInfo": {
     "elapsed": 10218911,
     "status": "ok",
     "timestamp": 1607991136161,
     "user": {
      "displayName": "Mahmut Can Kurt",
      "photoUrl": "https://lh3.googleusercontent.com/a-/AOh14GiR0Vz-Xi8c64gs5AldT12G3fhmeowAL59isdw9=s64",
      "userId": "17273613824855319138"
     },
     "user_tz": -180
    },
    "id": "BsIExHewGAmg",
    "outputId": "39298f3a-f17b-45cd-a403-9e877ce8f0c9"
   },
   "outputs": [
    {
     "name": "stdout",
     "output_type": "stream",
     "text": [
      "Epoch 1/25\n",
      "259/259 [==============================] - 7886s 30s/step - loss: 2.5469 - accuracy: 0.3896 - val_loss: 1.4975 - val_accuracy: 0.5955\n",
      "Epoch 2/25\n",
      "259/259 [==============================] - 95s 366ms/step - loss: 1.2183 - accuracy: 0.6529 - val_loss: 1.2843 - val_accuracy: 0.6414\n",
      "Epoch 3/25\n",
      "259/259 [==============================] - 95s 365ms/step - loss: 0.9456 - accuracy: 0.7197 - val_loss: 1.2935 - val_accuracy: 0.6483\n",
      "Epoch 4/25\n",
      "259/259 [==============================] - 95s 368ms/step - loss: 0.8166 - accuracy: 0.7462 - val_loss: 1.2359 - val_accuracy: 0.6654\n",
      "Epoch 5/25\n",
      "259/259 [==============================] - 95s 367ms/step - loss: 0.6903 - accuracy: 0.7796 - val_loss: 1.2470 - val_accuracy: 0.6723\n",
      "Epoch 6/25\n",
      "259/259 [==============================] - 94s 364ms/step - loss: 0.6006 - accuracy: 0.8074 - val_loss: 1.2420 - val_accuracy: 0.6728\n",
      "Epoch 7/25\n",
      "259/259 [==============================] - 95s 366ms/step - loss: 0.5511 - accuracy: 0.8208 - val_loss: 1.3049 - val_accuracy: 0.6699\n",
      "Epoch 8/25\n",
      "259/259 [==============================] - 95s 366ms/step - loss: 0.5030 - accuracy: 0.8331 - val_loss: 1.3151 - val_accuracy: 0.6797\n",
      "Epoch 9/25\n",
      "259/259 [==============================] - 94s 363ms/step - loss: 0.4373 - accuracy: 0.8552 - val_loss: 1.3445 - val_accuracy: 0.6684\n",
      "Epoch 10/25\n",
      "259/259 [==============================] - 94s 362ms/step - loss: 0.3987 - accuracy: 0.8670 - val_loss: 1.4762 - val_accuracy: 0.6605\n",
      "Epoch 11/25\n",
      "259/259 [==============================] - 95s 368ms/step - loss: 0.3559 - accuracy: 0.8775 - val_loss: 1.4017 - val_accuracy: 0.6730\n",
      "Epoch 12/25\n",
      "259/259 [==============================] - 94s 364ms/step - loss: 0.3240 - accuracy: 0.8886 - val_loss: 1.4677 - val_accuracy: 0.6792\n",
      "Epoch 13/25\n",
      "259/259 [==============================] - 94s 363ms/step - loss: 0.2952 - accuracy: 0.8992 - val_loss: 1.4975 - val_accuracy: 0.6662\n",
      "Epoch 14/25\n",
      "259/259 [==============================] - 95s 366ms/step - loss: 0.2544 - accuracy: 0.9128 - val_loss: 1.7121 - val_accuracy: 0.6529\n",
      "Epoch 15/25\n",
      "259/259 [==============================] - 94s 362ms/step - loss: 0.2560 - accuracy: 0.9117 - val_loss: 1.6411 - val_accuracy: 0.6706\n",
      "Epoch 16/25\n",
      "259/259 [==============================] - 93s 361ms/step - loss: 0.2349 - accuracy: 0.9186 - val_loss: 1.6326 - val_accuracy: 0.6748\n",
      "Epoch 17/25\n",
      "259/259 [==============================] - 94s 364ms/step - loss: 0.2004 - accuracy: 0.9336 - val_loss: 1.8116 - val_accuracy: 0.6564\n",
      "Epoch 18/25\n",
      "259/259 [==============================] - 94s 363ms/step - loss: 0.1952 - accuracy: 0.9361 - val_loss: 1.7910 - val_accuracy: 0.6620\n",
      "Epoch 19/25\n",
      "259/259 [==============================] - 94s 364ms/step - loss: 0.1722 - accuracy: 0.9432 - val_loss: 1.8632 - val_accuracy: 0.6586\n",
      "Epoch 20/25\n",
      "259/259 [==============================] - 94s 362ms/step - loss: 0.1657 - accuracy: 0.9427 - val_loss: 1.8228 - val_accuracy: 0.6613\n",
      "Epoch 21/25\n",
      "259/259 [==============================] - 95s 365ms/step - loss: 0.1643 - accuracy: 0.9438 - val_loss: 2.0060 - val_accuracy: 0.6551\n",
      "Epoch 22/25\n",
      "259/259 [==============================] - 94s 362ms/step - loss: 0.1523 - accuracy: 0.9480 - val_loss: 1.9895 - val_accuracy: 0.6610\n",
      "Epoch 23/25\n",
      "259/259 [==============================] - 94s 363ms/step - loss: 0.1653 - accuracy: 0.9428 - val_loss: 2.0874 - val_accuracy: 0.6465\n",
      "Epoch 24/25\n",
      "259/259 [==============================] - 95s 367ms/step - loss: 0.1314 - accuracy: 0.9554 - val_loss: 2.0069 - val_accuracy: 0.6627\n",
      "Epoch 25/25\n",
      "259/259 [==============================] - 94s 363ms/step - loss: 0.1152 - accuracy: 0.9609 - val_loss: 2.2994 - val_accuracy: 0.6519\n",
      "CPU times: user 34min 54s, sys: 2min 1s, total: 36min 56s\n",
      "Wall time: 2h 49min 48s\n"
     ]
    }
   ],
   "source": [
    "%%time\n",
    "\n",
    "epochs = 25\n",
    "\n",
    "history = model.fit(train_generator,\n",
    "                    steps_per_epoch=len(train_generator), \n",
    "                    epochs=epochs, \n",
    "                    validation_data=val_generator, \n",
    "                    validation_steps=len(val_generator))"
   ]
  },
  {
   "cell_type": "code",
   "execution_count": 33,
   "metadata": {
    "colab": {
     "base_uri": "https://localhost:8080/",
     "height": 513
    },
    "executionInfo": {
     "elapsed": 10219329,
     "status": "ok",
     "timestamp": 1607991136586,
     "user": {
      "displayName": "Mahmut Can Kurt",
      "photoUrl": "https://lh3.googleusercontent.com/a-/AOh14GiR0Vz-Xi8c64gs5AldT12G3fhmeowAL59isdw9=s64",
      "userId": "17273613824855319138"
     },
     "user_tz": -180
    },
    "id": "aEsGJIY5GEGY",
    "outputId": "ee2b99dc-465d-4a34-9999-186536efeb71"
   },
   "outputs": [
    {
     "data": {
      "image/png": "[encoded data removed]",
      "text/plain": [
       "<Figure size 576x576 with 2 Axes>"
      ]
     },
     "metadata": {
      "needs_background": "light",
      "tags": []
     },
     "output_type": "display_data"
    }
   ],
   "source": [
    "acc = history.history['accuracy']\n",
    "val_acc = history.history['val_accuracy']\n",
    "\n",
    "loss = history.history['loss']\n",
    "val_loss = history.history['val_loss']\n",
    "\n",
    "plt.figure(figsize=(8, 8))\n",
    "plt.subplot(2, 1, 1)\n",
    "plt.plot(acc, label='Training Accuracy')\n",
    "plt.plot(val_acc, label='Validation Accuracy')\n",
    "plt.legend(loc='lower right')\n",
    "plt.ylabel('Accuracy')\n",
    "plt.ylim([min(plt.ylim()),1])\n",
    "plt.title('Training and Validation Accuracy')\n",
    "\n",
    "plt.subplot(2, 1, 2)\n",
    "plt.plot(loss, label='Training Loss')\n",
    "plt.plot(val_loss, label='Validation Loss')\n",
    "plt.legend(loc='upper right')\n",
    "plt.ylabel('Cross Entropy')\n",
    "plt.ylim([0,1.0])\n",
    "plt.title('Training and Validation Loss')\n",
    "plt.xlabel('epoch')\n",
    "plt.show()"
   ]
  },
  {
   "cell_type": "code",
   "execution_count": 34,
   "metadata": {
    "executionInfo": {
     "elapsed": 10219324,
     "status": "ok",
     "timestamp": 1607991136587,
     "user": {
      "displayName": "Mahmut Can Kurt",
      "photoUrl": "https://lh3.googleusercontent.com/a-/AOh14GiR0Vz-Xi8c64gs5AldT12G3fhmeowAL59isdw9=s64",
      "userId": "17273613824855319138"
     },
     "user_tz": -180
    },
    "id": "729b4V-pGJJP"
   },
   "outputs": [],
   "source": [
    "base_model.trainable = True"
   ]
  },
  {
   "cell_type": "code",
   "execution_count": 35,
   "metadata": {
    "colab": {
     "base_uri": "https://localhost:8080/"
    },
    "executionInfo": {
     "elapsed": 10219320,
     "status": "ok",
     "timestamp": 1607991136588,
     "user": {
      "displayName": "Mahmut Can Kurt",
      "photoUrl": "https://lh3.googleusercontent.com/a-/AOh14GiR0Vz-Xi8c64gs5AldT12G3fhmeowAL59isdw9=s64",
      "userId": "17273613824855319138"
     },
     "user_tz": -180
    },
    "id": "y6_MeLFcGJLy",
    "outputId": "bfd62cbf-6e04-47df-e6c9-1cc27b979f25"
   },
   "outputs": [
    {
     "name": "stdout",
     "output_type": "stream",
     "text": [
      "Number of layers in the base model:  155\n"
     ]
    }
   ],
   "source": [
    "# Let's take a look to see how many layers are in the base model\n",
    "print(\"Number of layers in the base model: \", len(base_model.layers))\n",
    "\n",
    "# Fine tune from this layer onwards\n",
    "fine_tune_at = 100\n",
    "\n",
    "# Freeze all the layers before the `fine_tune_at` layer\n",
    "for layer in base_model.layers[:fine_tune_at]:\n",
    "  layer.trainable =  False"
   ]
  },
  {
   "cell_type": "code",
   "execution_count": 36,
   "metadata": {
    "executionInfo": {
     "elapsed": 10219315,
     "status": "ok",
     "timestamp": 1607991136588,
     "user": {
      "displayName": "Mahmut Can Kurt",
      "photoUrl": "https://lh3.googleusercontent.com/a-/AOh14GiR0Vz-Xi8c64gs5AldT12G3fhmeowAL59isdw9=s64",
      "userId": "17273613824855319138"
     },
     "user_tz": -180
    },
    "id": "k5GwINrXGJOR"
   },
   "outputs": [],
   "source": [
    "model.compile(loss='categorical_crossentropy',\n",
    "              optimizer = tf.keras.optimizers.Adam(1e-5),\n",
    "              metrics=['accuracy'])"
   ]
  },
  {
   "cell_type": "code",
   "execution_count": 37,
   "metadata": {
    "colab": {
     "base_uri": "https://localhost:8080/"
    },
    "executionInfo": {
     "elapsed": 10219309,
     "status": "ok",
     "timestamp": 1607991136589,
     "user": {
      "displayName": "Mahmut Can Kurt",
      "photoUrl": "https://lh3.googleusercontent.com/a-/AOh14GiR0Vz-Xi8c64gs5AldT12G3fhmeowAL59isdw9=s64",
      "userId": "17273613824855319138"
     },
     "user_tz": -180
    },
    "id": "f5pDLR9LGJQk",
    "outputId": "16da7ac9-0e91-4fcb-e84f-f136239e7c35"
   },
   "outputs": [
    {
     "name": "stdout",
     "output_type": "stream",
     "text": [
      "Model: \"sequential_1\"\n",
      "_________________________________________________________________\n",
      "Layer (type)                 Output Shape              Param #   \n",
      "=================================================================\n",
      "mobilenetv2_1.00_224 (Functi (None, 7, 7, 1280)        2257984   \n",
      "_________________________________________________________________\n",
      "conv2d_1 (Conv2D)            (None, 5, 5, 32)          368672    \n",
      "_________________________________________________________________\n",
      "dropout_1 (Dropout)          (None, 5, 5, 32)          0         \n",
      "_________________________________________________________________\n",
      "global_average_pooling2d_1 ( (None, 32)                0         \n",
      "_________________________________________________________________\n",
      "dense_1 (Dense)              (None, 120)               3960      \n",
      "=================================================================\n",
      "Total params: 2,630,616\n",
      "Trainable params: 2,235,224\n",
      "Non-trainable params: 395,392\n",
      "_________________________________________________________________\n"
     ]
    }
   ],
   "source": [
    "model.summary()"
   ]
  },
  {
   "cell_type": "code",
   "execution_count": 38,
   "metadata": {
    "colab": {
     "base_uri": "https://localhost:8080/"
    },
    "executionInfo": {
     "elapsed": 10219303,
     "status": "ok",
     "timestamp": 1607991136589,
     "user": {
      "displayName": "Mahmut Can Kurt",
      "photoUrl": "https://lh3.googleusercontent.com/a-/AOh14GiR0Vz-Xi8c64gs5AldT12G3fhmeowAL59isdw9=s64",
      "userId": "17273613824855319138"
     },
     "user_tz": -180
    },
    "id": "B8RHIh6PGJTg",
    "outputId": "07f7aca2-3898-495d-c56b-de4665cc035a"
   },
   "outputs": [
    {
     "name": "stdout",
     "output_type": "stream",
     "text": [
      "Number of trainable variables = 60\n"
     ]
    }
   ],
   "source": [
    "print('Number of trainable variables = {}'.format(len(model.trainable_variables)))"
   ]
  },
  {
   "cell_type": "code",
   "execution_count": 39,
   "metadata": {
    "colab": {
     "base_uri": "https://localhost:8080/"
    },
    "executionInfo": {
     "elapsed": 10707463,
     "status": "ok",
     "timestamp": 1607991624753,
     "user": {
      "displayName": "Mahmut Can Kurt",
      "photoUrl": "https://lh3.googleusercontent.com/a-/AOh14GiR0Vz-Xi8c64gs5AldT12G3fhmeowAL59isdw9=s64",
      "userId": "17273613824855319138"
     },
     "user_tz": -180
    },
    "id": "g9ydUwUpGJVj",
    "outputId": "51cb60bd-4c2b-42c9-ce2e-02b2f6071049"
   },
   "outputs": [
    {
     "name": "stdout",
     "output_type": "stream",
     "text": [
      "Epoch 1/5\n",
      "259/259 [==============================] - 97s 373ms/step - loss: 1.5929 - accuracy: 0.6611 - val_loss: 2.1902 - val_accuracy: 0.6613\n",
      "Epoch 2/5\n",
      "259/259 [==============================] - 97s 376ms/step - loss: 0.7944 - accuracy: 0.7735 - val_loss: 2.0721 - val_accuracy: 0.6625\n",
      "Epoch 3/5\n",
      "259/259 [==============================] - 96s 372ms/step - loss: 0.5816 - accuracy: 0.8181 - val_loss: 1.9699 - val_accuracy: 0.6640\n",
      "Epoch 4/5\n",
      "259/259 [==============================] - 96s 372ms/step - loss: 0.4514 - accuracy: 0.8542 - val_loss: 1.8915 - val_accuracy: 0.6632\n",
      "Epoch 5/5\n",
      "259/259 [==============================] - 97s 373ms/step - loss: 0.3667 - accuracy: 0.8776 - val_loss: 1.8548 - val_accuracy: 0.6674\n"
     ]
    }
   ],
   "source": [
    "history_fine = model.fit(train_generator, \n",
    "                         steps_per_epoch=len(train_generator), \n",
    "                         epochs=5, \n",
    "                         validation_data=val_generator, \n",
    "                         validation_steps=len(val_generator))"
   ]
  },
  {
   "cell_type": "code",
   "execution_count": 41,
   "metadata": {
    "colab": {
     "base_uri": "https://localhost:8080/"
    },
    "executionInfo": {
     "elapsed": 27101,
     "status": "ok",
     "timestamp": 1607991908205,
     "user": {
      "displayName": "Mahmut Can Kurt",
      "photoUrl": "https://lh3.googleusercontent.com/a-/AOh14GiR0Vz-Xi8c64gs5AldT12G3fhmeowAL59isdw9=s64",
      "userId": "17273613824855319138"
     },
     "user_tz": -180
    },
    "id": "gQvJaoCVGVib",
    "outputId": "0c6a9119-d10d-45de-d9e2-f74dfc75fa58"
   },
   "outputs": [
    {
     "name": "stdout",
     "output_type": "stream",
     "text": [
      "INFO:tensorflow:Assets written to: save/fine_tuning/assets\n"
     ]
    },
    {
     "name": "stderr",
     "output_type": "stream",
     "text": [
      "INFO:tensorflow:Assets written to: save/fine_tuning/assets\n"
     ]
    }
   ],
   "source": [
    "saved_model_dir = 'save/fine_tuning'\n",
    "tf.saved_model.save(model, saved_model_dir)\n",
    "\n",
    "converter = tf.lite.TFLiteConverter.from_saved_model(saved_model_dir)\n",
    "tflite_model = converter.convert()\n",
    "\n",
    "with open('model.tflite', 'wb') as f:\n",
    "  f.write(tflite_model)"
   ]
  },
  {
   "cell_type": "code",
   "execution_count": 42,
   "metadata": {
    "colab": {
     "base_uri": "https://localhost:8080/",
     "height": 17
    },
    "executionInfo": {
     "elapsed": 1169,
     "status": "ok",
     "timestamp": 1607991988821,
     "user": {
      "displayName": "Mahmut Can Kurt",
      "photoUrl": "https://lh3.googleusercontent.com/a-/AOh14GiR0Vz-Xi8c64gs5AldT12G3fhmeowAL59isdw9=s64",
      "userId": "17273613824855319138"
     },
     "user_tz": -180
    },
    "id": "nYBF4wUdyoN0",
    "outputId": "bc1148ce-4d07-4c7c-aba8-3d64b76c535e"
   },
   "outputs": [
    {
     "data": {
      "application/javascript": [
       "\n",
       "    async function download(id, filename, size) {\n",
       "      if (!google.colab.kernel.accessAllowed) {\n",
       "        return;\n",
       "      }\n",
       "      const div = document.createElement('div');\n",
       "      const label = document.createElement('label');\n",
       "      label.textContent = `Downloading \"${filename}\": `;\n",
       "      div.appendChild(label);\n",
       "      const progress = document.createElement('progress');\n",
       "      progress.max = size;\n",
       "      div.appendChild(progress);\n",
       "      document.body.appendChild(div);\n",
       "\n",
       "      const buffers = [];\n",
       "      let downloaded = 0;\n",
       "\n",
       "      const channel = await google.colab.kernel.comms.open(id);\n",
       "      // Send a message to notify the kernel that we're ready.\n",
       "      channel.send({})\n",
       "\n",
       "      for await (const message of channel.messages) {\n",
       "        // Send a message to notify the kernel that we're ready.\n",
       "        channel.send({})\n",
       "        if (message.buffers) {\n",
       "          for (const buffer of message.buffers) {\n",
       "            buffers.push(buffer);\n",
       "            downloaded += buffer.byteLength;\n",
       "            progress.value = downloaded;\n",
       "          }\n",
       "        }\n",
       "      }\n",
       "      const blob = new Blob(buffers, {type: 'application/binary'});\n",
       "      const a = document.createElement('a');\n",
       "      a.href = window.URL.createObjectURL(blob);\n",
       "      a.download = filename;\n",
       "      div.appendChild(a);\n",
       "      a.click();\n",
       "      div.remove();\n",
       "    }\n",
       "  "
      ],
      "text/plain": [
       "<IPython.core.display.Javascript object>"
      ]
     },
     "metadata": {
      "tags": []
     },
     "output_type": "display_data"
    },
    {
     "data": {
      "application/javascript": [
       "download(\"download_e2923780-27af-41bb-b07b-6aef779cfe4c\", \"model.tflite\", 10393928)"
      ],
      "text/plain": [
       "<IPython.core.display.Javascript object>"
      ]
     },
     "metadata": {
      "tags": []
     },
     "output_type": "display_data"
    },
    {
     "data": {
      "application/javascript": [
       "\n",
       "    async function download(id, filename, size) {\n",
       "      if (!google.colab.kernel.accessAllowed) {\n",
       "        return;\n",
       "      }\n",
       "      const div = document.createElement('div');\n",
       "      const label = document.createElement('label');\n",
       "      label.textContent = `Downloading \"${filename}\": `;\n",
       "      div.appendChild(label);\n",
       "      const progress = document.createElement('progress');\n",
       "      progress.max = size;\n",
       "      div.appendChild(progress);\n",
       "      document.body.appendChild(div);\n",
       "\n",
       "      const buffers = [];\n",
       "      let downloaded = 0;\n",
       "\n",
       "      const channel = await google.colab.kernel.comms.open(id);\n",
       "      // Send a message to notify the kernel that we're ready.\n",
       "      channel.send({})\n",
       "\n",
       "      for await (const message of channel.messages) {\n",
       "        // Send a message to notify the kernel that we're ready.\n",
       "        channel.send({})\n",
       "        if (message.buffers) {\n",
       "          for (const buffer of message.buffers) {\n",
       "            buffers.push(buffer);\n",
       "            downloaded += buffer.byteLength;\n",
       "            progress.value = downloaded;\n",
       "          }\n",
       "        }\n",
       "      }\n",
       "      const blob = new Blob(buffers, {type: 'application/binary'});\n",
       "      const a = document.createElement('a');\n",
       "      a.href = window.URL.createObjectURL(blob);\n",
       "      a.download = filename;\n",
       "      div.appendChild(a);\n",
       "      a.click();\n",
       "      div.remove();\n",
       "    }\n",
       "  "
      ],
      "text/plain": [
       "<IPython.core.display.Javascript object>"
      ]
     },
     "metadata": {
      "tags": []
     },
     "output_type": "display_data"
    },
    {
     "data": {
      "application/javascript": [
       "download(\"download_7769f1bc-8fdb-4dd2-b109-30fd75934063\", \"labels.txt\", 2910)"
      ],
      "text/plain": [
       "<IPython.core.display.Javascript object>"
      ]
     },
     "metadata": {
      "tags": []
     },
     "output_type": "display_data"
    }
   ],
   "source": [
    "from google.colab import files\n",
    "\n",
    "files.download('model.tflite')\n",
    "files.download('labels.txt')"
   ]
  },
  {
   "cell_type": "code",
   "execution_count": 43,
   "metadata": {
    "colab": {
     "base_uri": "https://localhost:8080/",
     "height": 513
    },
    "executionInfo": {
     "elapsed": 1076,
     "status": "ok",
     "timestamp": 1607992077044,
     "user": {
      "displayName": "Mahmut Can Kurt",
      "photoUrl": "https://lh3.googleusercontent.com/a-/AOh14GiR0Vz-Xi8c64gs5AldT12G3fhmeowAL59isdw9=s64",
      "userId": "17273613824855319138"
     },
     "user_tz": -180
    },
    "id": "56f_ncUPy9rJ",
    "outputId": "274735d3-e9ed-46ac-f8eb-988bbb8f42f1"
   },
   "outputs": [
    {
     "data": {
      "image/png": "[encoded data removed]",
      "text/plain": [
       "<Figure size 576x576 with 2 Axes>"
      ]
     },
     "metadata": {
      "needs_background": "light",
      "tags": []
     },
     "output_type": "display_data"
    }
   ],
   "source": [
    "acc = history_fine.history['accuracy']\n",
    "val_acc = history_fine.history['val_accuracy']\n",
    "\n",
    "loss = history_fine.history['loss']\n",
    "val_loss = history_fine.history['val_loss']\n",
    "\n",
    "plt.figure(figsize=(8, 8))\n",
    "plt.subplot(2, 1, 1)\n",
    "plt.plot(acc, label='Training Accuracy')\n",
    "plt.plot(val_acc, label='Validation Accuracy')\n",
    "plt.legend(loc='lower right')\n",
    "plt.ylabel('Accuracy')\n",
    "plt.ylim([min(plt.ylim()),1])\n",
    "plt.title('Training and Validation Accuracy')\n",
    "\n",
    "plt.subplot(2, 1, 2)\n",
    "plt.plot(loss, label='Training Loss')\n",
    "plt.plot(val_loss, label='Validation Loss')\n",
    "plt.legend(loc='upper right')\n",
    "plt.ylabel('Cross Entropy')\n",
    "plt.ylim([0,1.0])\n",
    "plt.title('Training and Validation Loss')\n",
    "plt.xlabel('epoch')\n",
    "plt.show()"
   ]
  }
 ],
 "metadata": {
  "accelerator": "GPU",
  "colab": {
   "authorship_tag": "ABX9TyOa9UB1kO8PXXZgMX16aZ5m",
   "name": "dog_breed_tf_lite.ipynb",
   "provenance": []
  },
  "kernelspec": {
   "display_name": "Python 3",
   "language": "python",
   "name": "python3"
  },
  "language_info": {
   "codemirror_mode": {
    "name": "ipython",
    "version": 3
   },
   "file_extension": ".py",
   "mimetype": "text/x-python",
   "name": "python",
   "nbconvert_exporter": "python",
   "pygments_lexer": "ipython3",
   "version": "3.8.3"
  }
 },
 "nbformat": 4,
 "nbformat_minor": 1
}
